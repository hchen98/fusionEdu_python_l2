{
 "cells": [
  {
   "cell_type": "markdown",
   "id": "5d3116ab",
   "metadata": {
    "toc": true
   },
   "source": [
    "<h1>Table of Contents<span class=\"tocSkip\"></span></h1>\n",
    "<div class=\"toc\"><ul class=\"toc-item\"><li><span><a href=\"#Fusion-Education\" data-toc-modified-id=\"Fusion-Education-1\"><span class=\"toc-item-num\">1&nbsp;&nbsp;</span>Fusion Education</a></span></li><li><span><a href=\"#OOP\" data-toc-modified-id=\"OOP-2\"><span class=\"toc-item-num\">2&nbsp;&nbsp;</span>OOP</a></span><ul class=\"toc-item\"><li><span><a href=\"#Example\" data-toc-modified-id=\"Example-2.1\"><span class=\"toc-item-num\">2.1&nbsp;&nbsp;</span>Example</a></span></li><li><span><a href=\"#Why?\" data-toc-modified-id=\"Why?-2.2\"><span class=\"toc-item-num\">2.2&nbsp;&nbsp;</span>Why?</a></span></li><li><span><a href=\"#Advantages\" data-toc-modified-id=\"Advantages-2.3\"><span class=\"toc-item-num\">2.3&nbsp;&nbsp;</span>Advantages</a></span></li><li><span><a href=\"#Disadvantages\" data-toc-modified-id=\"Disadvantages-2.4\"><span class=\"toc-item-num\">2.4&nbsp;&nbsp;</span>Disadvantages</a></span></li><li><span><a href=\"#Class\" data-toc-modified-id=\"Class-2.5\"><span class=\"toc-item-num\">2.5&nbsp;&nbsp;</span>Class</a></span><ul class=\"toc-item\"><li><span><a href=\"#Example-1\" data-toc-modified-id=\"Example-1-2.5.1\"><span class=\"toc-item-num\">2.5.1&nbsp;&nbsp;</span>Example 1</a></span></li><li><span><a href=\"#Example-2\" data-toc-modified-id=\"Example-2-2.5.2\"><span class=\"toc-item-num\">2.5.2&nbsp;&nbsp;</span>Example 2</a></span></li></ul></li><li><span><a href=\"#Method-VS-Function\" data-toc-modified-id=\"Method-VS-Function-2.6\"><span class=\"toc-item-num\">2.6&nbsp;&nbsp;</span>Method VS Function</a></span><ul class=\"toc-item\"><li><span><a href=\"#Without-self\" data-toc-modified-id=\"Without-self-2.6.1\"><span class=\"toc-item-num\">2.6.1&nbsp;&nbsp;</span>Without <code>self</code></a></span></li></ul></li></ul></li><li><span><a href=\"#Real-world-example\" data-toc-modified-id=\"Real-world-example-3\"><span class=\"toc-item-num\">3&nbsp;&nbsp;</span>Real-world example</a></span></li></ul></div>"
   ]
  },
  {
   "cell_type": "markdown",
   "id": "1d4cfc29",
   "metadata": {},
   "source": [
    "# Fusion Education\n",
    "* Instructor: Hui (Henry) Chen and Peggy\n",
    "* Time: Saturday 11:30 AM - 12:30 PM\n",
    "* Python version: 3.9.x"
   ]
  },
  {
   "cell_type": "markdown",
   "id": "a4fe737a",
   "metadata": {},
   "source": [
    "Topics:\n",
    "OOP\n",
    "- Attributes\n",
    "- Constructor\n",
    "- Function vs Methods\n",
    "- Visual representation"
   ]
  },
  {
   "attachments": {
    "oop1.png": {
     "image/png": "[encoded data removed]"
    }
   },
   "cell_type": "markdown",
   "id": "ddd6fdf6",
   "metadata": {},
   "source": [
    "# OOP\n",
    "\n",
    "<br>\n",
    "\n",
    "<details>\n",
    "<summary><b>>>> What is OOP?</b></summary>\n",
    "<br>\n",
    "OOP stands for Object-Oriented Programming and it is appliable to almost every programming languages. OOP is a way for the computer program to represent real-world <b>objects</b>. \n",
    "</details>\n",
    "\n",
    "<br>\n",
    "\n",
    "<details>\n",
    "<summary><b>>>> What is an object?</b></summary>\n",
    "<br>\n",
    "An object is anything that has some Attributes/Trait/Characteristics and can perform a function/action. Therefore, we can describle anything we can sense (sight, smell, hearing, taste, and touch) or experience as an object.\n",
    "</details>\n",
    "\n",
    "<br>\n",
    "\n",
    "## Example\n",
    "\n",
    "We can describle a person as an object:\n",
    "\n",
    "![oop1.png](attachment:oop1.png)\n",
    "\n",
    "Since a person has:\n",
    "- name\n",
    "- gender\n",
    "- age\n",
    "- race\n",
    "- hair color\n",
    "- height\n",
    "- occupation"
   ]
  },
  {
   "cell_type": "markdown",
   "id": "ff387eaa",
   "metadata": {},
   "source": [
    "## Why?\n",
    "\n",
    "To represend anything as an object so that we can break the program into the bit-size problems that can be solved easily.\n",
    "\n",
    "## Advantages\n",
    "- Highly reusable code\n",
    "- High maintainable code\n",
    "- High security: it can serves as an extra layer of security to the program.\n",
    "\n",
    "## Disadvantages\n",
    "- Domain knowledge: you need to know about that object well in order to build it.\n",
    "- Increase complexity"
   ]
  },
  {
   "cell_type": "markdown",
   "id": "0560611c",
   "metadata": {},
   "source": [
    "## Class\n",
    "\n",
    "Before creating an object, we need to create a class.\n",
    "\n",
    "<details>\n",
    "<summary><b>>>> What is a class?</b></summary>\n",
    "<br>\n",
    "A class (in programming) is a blueprint for the object.\n",
    "</details>\n",
    "<hr>"
   ]
  },
  {
   "cell_type": "markdown",
   "id": "661ea30d",
   "metadata": {},
   "source": [
    "??? What does that suppose to mean?\n",
    "\n",
    "### Example 1\n",
    "- Object: a hourse\n",
    "- Class: map to that hourse\n",
    "\n",
    "### Example 2\n",
    "- Object: a vehicle\n",
    "- Class: Audi\n",
    "\n",
    "<br>\n",
    "With <code>class</code>, we can manage the attributes of an object. A class may contains as many functions as we wish.\n",
    "\n",
    "e.g., We use a function (inside a class) to change attribute value."
   ]
  },
  {
   "cell_type": "markdown",
   "id": "cad7dd39",
   "metadata": {},
   "source": [
    "Rule of thumb:\n",
    "- The first letter of class name should be upper case\n",
    "- No underscore allowed\n",
    "\n",
    "e.g.,\n",
    "\n",
    "| Example | Correct |\n",
    "| :--- | :---: |\n",
    "| personHooray | ❌ |\n",
    "| Person_Hooray | ❌ |\n",
    "| PersonHooray | ✅ |"
   ]
  },
  {
   "cell_type": "code",
   "execution_count": 16,
   "id": "1f7e3593",
   "metadata": {},
   "outputs": [],
   "source": [
    "class Person:\n",
    "    # start of class body\n",
    "    first_name = \"Henry\"\n",
    "    last_name = \"Chen\"\n",
    "    age = 24\n",
    "    disability = False\n",
    "    gender = \"Male\"\n",
    "    height = 5.67589\n",
    "    race = \"Chinese\"\n",
    "    # end of class body"
   ]
  },
  {
   "cell_type": "code",
   "execution_count": 18,
   "id": "b21a638e",
   "metadata": {},
   "outputs": [],
   "source": [
    "# when we call that class, \n",
    "# it is going to be an instance of that class\n",
    "p1 = Person()"
   ]
  },
  {
   "cell_type": "code",
   "execution_count": 19,
   "id": "7d7e3bbf",
   "metadata": {},
   "outputs": [
    {
     "name": "stdout",
     "output_type": "stream",
     "text": [
      "Henry\n",
      "24\n",
      "False\n"
     ]
    }
   ],
   "source": [
    "print(p1.first_name)\n",
    "print(p1.age)\n",
    "print(p1.disability)"
   ]
  },
  {
   "cell_type": "markdown",
   "id": "29b2a864",
   "metadata": {},
   "source": [
    "Here, we can manually update the obj attribute:"
   ]
  },
  {
   "cell_type": "code",
   "execution_count": 20,
   "id": "a7e8db3d",
   "metadata": {},
   "outputs": [],
   "source": [
    "p1 = Person()\n",
    "p2 = Person()\n",
    "\n",
    "p1.first_name = \"William\"\n",
    "p1.age = 12\n",
    "p1.gender = \"Male\"\n",
    "\n",
    "p2.first_name = \"Nuoyu\"\n",
    "p2.age = 13\n",
    "p2.gender = \"Female\""
   ]
  },
  {
   "cell_type": "code",
   "execution_count": 23,
   "id": "b92f47a8",
   "metadata": {},
   "outputs": [
    {
     "name": "stdout",
     "output_type": "stream",
     "text": [
      "P1 info:\n",
      "William\n",
      "12\n",
      "Male\n",
      "\n",
      "P2 info:\n",
      "Nuoyu\n",
      "13\n",
      "Female\n"
     ]
    }
   ],
   "source": [
    "print(\"P1 info:\")\n",
    "print(p1.first_name)\n",
    "print(p1.age)\n",
    "print(p1.gender)\n",
    "print()\n",
    "print(\"P2 info:\")\n",
    "print(p2.first_name)\n",
    "print(p2.age)\n",
    "print(p2.gender)"
   ]
  },
  {
   "cell_type": "markdown",
   "id": "1e48a265",
   "metadata": {},
   "source": [
    "<b>Q: Can we automatically create those attibutes once we create an instance?</b>\n",
    "Because:\n",
    "- Lots of code (too much human manual job)\n",
    "- We did not make the use of class\n",
    "\n",
    "Answer: <b>Yes</b>"
   ]
  },
  {
   "cell_type": "code",
   "execution_count": 28,
   "id": "27b4bb28",
   "metadata": {},
   "outputs": [],
   "source": [
    "class Person:\n",
    "    def __init__(self, fname, lname, age, disability, gender, height, race):\n",
    "        self.first_name = fname   # this is the same as p1.first_name = \"William\"\n",
    "        self.last_name = lname    # this is the same as p1.last_name = \"Zheng\"\n",
    "        self.age = age            # this is the same as p1.age = 12\n",
    "        self.disability = disability\n",
    "        self.gender = gender\n",
    "        self.height = height\n",
    "        self.race = race"
   ]
  },
  {
   "cell_type": "code",
   "execution_count": 33,
   "id": "522613a5",
   "metadata": {},
   "outputs": [],
   "source": [
    "p3 = Person(\"Henry\", \"Chen\", 24, False, \"Male\", 5.7, \"Chinese\")"
   ]
  },
  {
   "attachments": {
    "oop2.png": {
     "image/png": "[encoded data removed]"
    }
   },
   "cell_type": "markdown",
   "id": "ba14850a",
   "metadata": {},
   "source": [
    "What just happened?\n",
    "\n",
    "![oop2.png](attachment:oop2.png)"
   ]
  },
  {
   "cell_type": "code",
   "execution_count": 32,
   "id": "7bc7787f",
   "metadata": {},
   "outputs": [
    {
     "name": "stdout",
     "output_type": "stream",
     "text": [
      "Henry\n"
     ]
    }
   ],
   "source": [
    "print(p3.first_name)"
   ]
  },
  {
   "cell_type": "markdown",
   "id": "dca55ed0",
   "metadata": {},
   "source": [
    "<b>Q: What happen if we want to print the full name of that person?</b>"
   ]
  },
  {
   "cell_type": "code",
   "execution_count": 30,
   "id": "fe5d48af",
   "metadata": {},
   "outputs": [
    {
     "name": "stdout",
     "output_type": "stream",
     "text": [
      "First name: Henry, last name: Chen\n"
     ]
    }
   ],
   "source": [
    "print(\"First name: {}, last name: {}\".format(p3.first_name, p3.last_name))"
   ]
  },
  {
   "cell_type": "markdown",
   "id": "8cdefc78",
   "metadata": {},
   "source": [
    "Okay, but that's too much code. Can we shorten the code?\n",
    "\n",
    "Yes! We can create this functionality within the class!"
   ]
  },
  {
   "cell_type": "code",
   "execution_count": 31,
   "id": "edfea713",
   "metadata": {},
   "outputs": [],
   "source": [
    "class Person:\n",
    "    def __init__(self, fname, lname, age, disability, gender, height, race):\n",
    "        self.first_name = fname   # this is the same as p1.first_name = \"William\"\n",
    "        self.last_name = lname\n",
    "        self.age = age     # this is the same as p1.age = 12\n",
    "        self.disability = disability\n",
    "        self.gender = gender\n",
    "        self.height = height\n",
    "        self.race = race\n",
    "    # ... \n",
    "    # end of class body"
   ]
  },
  {
   "cell_type": "markdown",
   "id": "ec35285f",
   "metadata": {},
   "source": [
    "<details>\n",
    "<summary><b>>>> Is there anything a person can do?</b></summary>\n",
    "<br>\n",
    "<code>\n",
    "    def eat(self):\n",
    "        print(\"I enojy pizza.\")</code>\n",
    "<code>\n",
    "    def sleep(self):\n",
    "        print(\"I usually sleep 7 hours per day.\")</code>\n",
    "</details>"
   ]
  },
  {
   "cell_type": "code",
   "execution_count": 14,
   "id": "56150ccf",
   "metadata": {},
   "outputs": [
    {
     "name": "stdout",
     "output_type": "stream",
     "text": [
      "I enojy pizza.\n"
     ]
    }
   ],
   "source": [
    "p4 = Person()\n",
    "p4.eat()"
   ]
  },
  {
   "cell_type": "markdown",
   "id": "46108bdf",
   "metadata": {},
   "source": [
    "Wait a minute, what is <code>self</code> keyword?\n",
    "\n",
    "This is a rule of thumb:\n",
    "- Whenever we write a <b>method</b> in a class, be default, the first parameter is <code>self</code> so that Python knows which method wthin a class it is pointing at.\n",
    "- Access the instance attribute. Allows us to access the \"variables\" across different methods.\n",
    "\n",
    "## Method VS Function\n",
    "<b>Method</b>:\n",
    "Yes, when we create a function inside a class, we called it as \"method\" instead of function!"
   ]
  },
  {
   "cell_type": "markdown",
   "id": "3b6a2014",
   "metadata": {},
   "source": [
    "Back to the basic!"
   ]
  },
  {
   "cell_type": "code",
   "execution_count": 11,
   "id": "d748d9c7",
   "metadata": {},
   "outputs": [],
   "source": [
    "class Math:\n",
    "    def sum(self, x, y):\n",
    "        return x+y"
   ]
  },
  {
   "cell_type": "code",
   "execution_count": 12,
   "id": "be5e18b6",
   "metadata": {},
   "outputs": [
    {
     "name": "stdout",
     "output_type": "stream",
     "text": [
      "10\n",
      "10\n"
     ]
    }
   ],
   "source": [
    "# method\n",
    "calculator = Math()\n",
    "print(calculator.sum(9, 1))\n",
    "\n",
    "# function\n",
    "number_list = [9, 1]\n",
    "print(sum(number_list))"
   ]
  },
  {
   "cell_type": "markdown",
   "id": "3cd08623",
   "metadata": {},
   "source": [
    "### Without <code>self</code>"
   ]
  },
  {
   "cell_type": "code",
   "execution_count": 1,
   "id": "99539f74",
   "metadata": {},
   "outputs": [],
   "source": [
    "class Person:\n",
    "    def __init__(self, fname, lname, age, disability, gender, height, race):\n",
    "        self.first_name = fname\n",
    "        self.last_name = lname\n",
    "        self.age = age\n",
    "        self.disability = disability\n",
    "        self.gender = gender\n",
    "        self.height = height\n",
    "        self.race = race\n",
    "    \n",
    "    def eat():\n",
    "        print(\"I like Pizza!\")"
   ]
  },
  {
   "cell_type": "code",
   "execution_count": 2,
   "id": "7e4ee590",
   "metadata": {},
   "outputs": [],
   "source": [
    "p5 = Person(\"Henry\", \"Chen\", 24, False, \"Male\", 5.7, \"Chinese\")"
   ]
  },
  {
   "cell_type": "code",
   "execution_count": 3,
   "id": "ad31f3ce",
   "metadata": {},
   "outputs": [
    {
     "ename": "TypeError",
     "evalue": "eat() takes 0 positional arguments but 1 was given",
     "output_type": "error",
     "traceback": [
      "\u001b[1;31m---------------------------------------------------------------------------\u001b[0m",
      "\u001b[1;31mTypeError\u001b[0m                                 Traceback (most recent call last)",
      "Input \u001b[1;32mIn [3]\u001b[0m, in \u001b[0;36m<cell line: 1>\u001b[1;34m()\u001b[0m\n\u001b[1;32m----> 1\u001b[0m \u001b[43mp5\u001b[49m\u001b[38;5;241;43m.\u001b[39;49m\u001b[43meat\u001b[49m\u001b[43m(\u001b[49m\u001b[43m)\u001b[49m\n",
      "\u001b[1;31mTypeError\u001b[0m: eat() takes 0 positional arguments but 1 was given"
     ]
    }
   ],
   "source": [
    "p5.eat()"
   ]
  },
  {
   "cell_type": "markdown",
   "id": "87b7add4",
   "metadata": {},
   "source": [
    "# Real-world example"
   ]
  },
  {
   "cell_type": "code",
   "execution_count": 4,
   "id": "a8c0578b",
   "metadata": {},
   "outputs": [],
   "source": [
    "import random\n",
    "import sys"
   ]
  },
  {
   "cell_type": "code",
   "execution_count": null,
   "id": "093a79e4",
   "metadata": {},
   "outputs": [],
   "source": [
    "# generate random integer between 0 - 2 (including 0 and 2 itself).\n",
    "random.randint(0, 2)\n",
    "\n",
    "# exit the system without any errors\n",
    "sys.exit(0)"
   ]
  }
 ],
 "metadata": {
  "kernelspec": {
   "display_name": "Python 3 (ipykernel)",
   "language": "python",
   "name": "python3"
  },
  "language_info": {
   "codemirror_mode": {
    "name": "ipython",
    "version": 3
   },
   "file_extension": ".py",
   "mimetype": "text/x-python",
   "name": "python",
   "nbconvert_exporter": "python",
   "pygments_lexer": "ipython3",
   "version": "3.9.12"
  },
  "toc": {
   "base_numbering": 1,
   "nav_menu": {},
   "number_sections": true,
   "sideBar": true,
   "skip_h1_title": false,
   "title_cell": "Table of Contents",
   "title_sidebar": "Contents",
   "toc_cell": true,
   "toc_position": {
    "height": "calc(100% - 180px)",
    "left": "10px",
    "top": "150px",
    "width": "210px"
   },
   "toc_section_display": true,
   "toc_window_display": true
  }
 },
 "nbformat": 4,
 "nbformat_minor": 5
}
